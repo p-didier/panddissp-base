{
 "cells": [
  {
   "attachments": {},
   "cell_type": "markdown",
   "metadata": {},
   "source": [
    "# P&D ISSP - Base notebook\n",
    "@Students: You are free to edit anything you want."
   ]
  },
  {
   "attachments": {},
   "cell_type": "markdown",
   "metadata": {},
   "source": [
    "Packages"
   ]
  },
  {
   "cell_type": "code",
   "execution_count": 1,
   "metadata": {},
   "outputs": [],
   "source": [
    "import os\n",
    "import matplotlib\n",
    "import package.general as genfcns\n",
    "import package.gui_utils as guifcns\n",
    "matplotlib.style.use('default')  # <-- for notebooks: white figures background\n",
    "\n",
    "# Root path (path to where you are storing this very notebook)\n",
    "ROOTPATH = 'your/path/to/this/notebook'  #  /!/  Adapt this to your system  /!/ \n",
    "pathToSoundFiles = f'{ROOTPATH}/sound_files/'\n",
    "\n",
    "# Parameters (examples)\n",
    "speechfilenames = [\n",
    "    pathToSoundFiles + 'speech1.wav',\n",
    "    pathToSoundFiles + 'speech2.wav'\n",
    "]\n",
    "noisefilenames = [\n",
    "    pathToSoundFiles + 'Babble_noise1.wav'\n",
    "]\n",
    "signalDuration = 10     # [s]"
   ]
  },
  {
   "attachments": {},
   "cell_type": "markdown",
   "metadata": {},
   "source": [
    "Build acoustic scenario and generate RIRs using GUI"
   ]
  },
  {
   "cell_type": "code",
   "execution_count": null,
   "metadata": {},
   "outputs": [],
   "source": [
    "# Launch GUI\n",
    "guifcns.RIRg_GUI(\n",
    "    exportFolder=f'{os.getcwd()}/rirs',\n",
    "    outputRIRplot=False,\n",
    "    distBwMics=10,  # [cm]\n",
    "    fs=44100,\n",
    "    t60=0,\n",
    "    theme='SystemDefault',\n",
    ")"
   ]
  },
  {
   "attachments": {},
   "cell_type": "markdown",
   "metadata": {},
   "source": [
    "RIRs selection"
   ]
  },
  {
   "cell_type": "code",
   "execution_count": null,
   "metadata": {},
   "outputs": [],
   "source": [
    "# Select RIRs to be used\n",
    "# rirFile = 'rirs/'  # use this to input a specific set of RIRs (full path to .pkl.gz file)\n",
    "rirFile = genfcns.select_latest_rir(path='./rirs/')  # use this to select the lastly generated RIRs\n",
    "# Load from Pickle archive\n",
    "acousticScenario = guifcns.load_rirs(path=rirFile)\n",
    "# >>> NB: the RIRs can be accessed as acousticScenario.RIRsAudio /or/ RIRsNoise\n",
    "acousticScenario.plot_asc()  # show the acoustic scenario as a plot"
   ]
  },
  {
   "cell_type": "code",
   "execution_count": null,
   "metadata": {},
   "outputs": [],
   "source": [
    "# Up to you now! ..."
   ]
  },
  {
   "attachments": {},
   "cell_type": "markdown",
   "metadata": {},
   "source": [
    "# Signal processing - Week 2: MUSIC algorithm"
   ]
  },
  {
   "cell_type": "code",
   "execution_count": null,
   "metadata": {},
   "outputs": [],
   "source": [
    "import numpy as np\n",
    "\n",
    "winLength = 1024 # Window length\n",
    "nSources = acousticScenario.RIRsAudio.shape[-1] +\\\n",
    "    acousticScenario.RIRsNoise.shape[-1] # Number of sources\n",
    "theta = np.arange(0, np.pi, step=np.pi / 360)  # angles to consider\n",
    "\n",
    "print('Computing DOAs via freq.-domain MUSIC algorithm...')\n",
    "\n",
    "\n",
    "# DOAestAll = yourMUSIC() ...\n",
    "DOAestAll = np.zeros(nSources)  # default\n",
    "\n",
    "\n",
    "print(f'All estimated DOAs: {DOAestAll * 180 / np.pi}')\n",
    "\n",
    "# ------------------ DOA estimation performance check ------------------\n",
    "# Automatic selection of the target DOA\n",
    "DOAest, groundTruthDOAtalkers = genfcns.auto_choice_doa(\n",
    "    DOAestAll, acousticScenario\n",
    ")\n",
    "print(f'Selected estimated DOAs: {np.round(DOAest * 180 / np.pi, 2)}')\n",
    "print(f'Ground truth DOAs: {np.round(groundTruthDOAtalkers * 180 / np.pi, 2)}')\n",
    "# Check validity\n",
    "genfcns.check_plot_tdoas(DOAest, DOAestAll, acousticScenario)\n",
    "print(f'Estimate error(s): {np.round((DOAest - groundTruthDOAtalkers) * 180/np.pi, 2)} deg.')"
   ]
  }
 ],
 "metadata": {
  "kernelspec": {
   "display_name": "panddbase",
   "language": "python",
   "name": "python3"
  },
  "language_info": {
   "codemirror_mode": {
    "name": "ipython",
    "version": 3
   },
   "file_extension": ".py",
   "mimetype": "text/x-python",
   "name": "python",
   "nbconvert_exporter": "python",
   "pygments_lexer": "ipython3",
   "version": "3.10.16"
  },
  "orig_nbformat": 4
 },
 "nbformat": 4,
 "nbformat_minor": 2
}
